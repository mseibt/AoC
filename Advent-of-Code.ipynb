{
 "cells": [
  {
   "cell_type": "markdown",
   "metadata": {},
   "source": [
    "# Advent of Code\n",
    "\n",
    "Puzzles by: http://adventofcode.com/"
   ]
  },
  {
   "cell_type": "code",
   "execution_count": 1,
   "metadata": {
    "collapsed": true
   },
   "outputs": [],
   "source": [
    "from collections import defaultdict\n",
    "from itertools import count"
   ]
  },
  {
   "cell_type": "markdown",
   "metadata": {},
   "source": [
    "## --- Day 1: Inverse Captcha ---\n",
    "\n",
    "The night before Christmas, one of Santa's Elves calls you in a panic. \"The printer's broken! We can't print the Naughty or Nice List!\" By the time you make it to sub-basement 17, there are only a few minutes until midnight. \"We have a big problem,\" she says; \"there must be almost fifty bugs in this system, but nothing else can print The List. Stand in this square, quick! There's no time to explain; if you can convince them to pay you in stars, you'll be able to--\" She pulls a lever and the world goes blurry.\n",
    "\n",
    "When your eyes can focus again, everything seems a lot more pixelated than before. She must have sent you inside the computer! You check the system clock: 25 milliseconds until midnight. With that much time, you should be able to collect all fifty stars by December 25th.\n",
    "\n",
    "Collect stars by solving puzzles. Two puzzles will be made available on each day millisecond in the advent calendar; the second puzzle is unlocked when you complete the first. Each puzzle grants one star. Good luck!\n",
    "\n",
    "You're standing in a room with \"digitization quarantine\" written in LEDs along one wall. The only door is locked, but it includes a small interface. \"Restricted Area - Strictly No Digitized Users Allowed.\"\n",
    "\n",
    "It goes on to explain that you may only leave by solving a captcha to prove you're not a human. Apparently, you only get one millisecond to solve the captcha: too fast for a normal human, but it feels like hours to you.\n",
    "\n",
    "The captcha requires you to review a sequence of digits (your puzzle input) and find the sum of all digits that match the next digit in the list. The list is circular, so the digit after the last digit is the first digit in the list.\n",
    "\n",
    "For example:\n",
    "\n",
    "    1122 produces a sum of 3 (1 + 2) because the first digit (1) matches the second digit and the third digit (2) matches the fourth digit.\n",
    "    1111 produces 4 because each digit (all 1) matches the next.\n",
    "    1234 produces 0 because no digit matches the next.\n",
    "    91212129 produces 9 because the only digit that matches the next one is the last digit, 9.\n",
    "\n",
    "What is the solution to your captcha?\n"
   ]
  },
  {
   "cell_type": "code",
   "execution_count": 2,
   "metadata": {},
   "outputs": [
    {
     "name": "stdout",
     "output_type": "stream",
     "text": [
      "1341\n"
     ]
    }
   ],
   "source": [
    "captcha = (\n",
    "    '9514845965411415573169847814949991796797677476271324475131716'\n",
    "    '2642456177966287315776144295221229668557345231126344516323349'\n",
    "    '3199211387838461594635666699422982947782623317333683978438123'\n",
    "    '2613268639597197771792285993193211389484665627437615848361845'\n",
    "    '1298413163535411626489918195274822452395397648581629522794579'\n",
    "    '2555726121913344959454458829485471174415775278865324142733339'\n",
    "    '7898789295962759983417788738895858199164574747732522491793665'\n",
    "    '9995145418265722557627783466922298236688468856575469127374595'\n",
    "    '9468648957498511326215934353963981471593984617554514519623785'\n",
    "    '3268883747421473189934232148347517859569583951334866563884545'\n",
    "    '5276972256252441571591386994632555139663859339872993852642499'\n",
    "    '4348267935153555851552287223313383583669912941364344694725478'\n",
    "    '2582974989695176328811873941415934798185361945979765192542159'\n",
    "    '3225765377745522747761795783327346321659364239421527531473491'\n",
    "    '4719726618923177918342664351954252667253233858814365351722938'\n",
    "    '7166215442265989562577532122488592583513631747827423369614253'\n",
    "    '2538156157599235241551416878281617386114885947828533952915163'\n",
    "    '1429536819286498721812323861771638574344416879476255929929157'\n",
    "    '9129841517426132687547796853961259545953181349333666265944982'\n",
    "    '4995638877172377724277265467844881584455537289257474773567236'\n",
    "    '8299826548254744359377667294764559334659523233146587568261116'\n",
    "    '2531551893941886968316912847112648729143489618882533869719944'\n",
    "    '3135247471737687874594876917124324262121991237873175554438724'\n",
    "    '9443997382399714738351857752329367997665166956467544459817582'\n",
    "    '9154785144865414539321755984135542596721173648631125925159889'\n",
    "    '2274716484266836192513555124892344996832838588987751215695272'\n",
    "    '5198691746951431443497496455761516486573476185321748523644283'\n",
    "    '4941811193998743246839223935476828519314359312762677667727982'\n",
    "    '6156311795464857642174138482349418789527258257566968527998698'\n",
    "    '8357796138794326125852772995446355723211161523161886222562853'\n",
    "    '5464884115634739986338479532467875571461876969478313357228889'\n",
    "    '1817296125649897186894623729952347484198352739148996235719643'\n",
    "    '3927251798764362493965894995592683296651874787384247326643886'\n",
    "    '7749668286573937176265915783211748322224341288178717653472781'\n",
    "    '5279942556563352115264368622141112946342549642538551671968288'\n",
    "    '4157452772141585743166647191938727971366274357874252166721759'\n",
    ")\n",
    "\n",
    "def day_01_part1(captcha):\n",
    "    result = 0\n",
    "\n",
    "    last = captcha[-1]\n",
    "    for i in captcha:\n",
    "        if last == i:\n",
    "            result += int(i)\n",
    "        last = i\n",
    "\n",
    "    return result\n",
    "\n",
    "print(day_01_part1(captcha))"
   ]
  },
  {
   "cell_type": "markdown",
   "metadata": {},
   "source": [
    "### --- Part Two ---\n",
    "\n",
    "You notice a progress bar that jumps to 50% completion. Apparently, the door isn't yet satisfied, but it did emit a star as encouragement. The instructions change:\n",
    "\n",
    "Now, instead of considering the next digit, it wants you to consider the digit halfway around the circular list. That is, if your list contains 10 items, only include a digit in your sum if the digit 10/2 = 5 steps forward matches it. Fortunately, your list has an even number of elements.\n",
    "\n",
    "For example:\n",
    "\n",
    "    1212 produces 6: the list contains 4 items, and all four digits match the digit 2 items ahead.\n",
    "    1221 produces 0, because every comparison is between a 1 and a 2.\n",
    "    123425 produces 4, because both 2s match each other, but no other digit has a match.\n",
    "    123123 produces 12.\n",
    "    12131415 produces 4.\n"
   ]
  },
  {
   "cell_type": "code",
   "execution_count": 3,
   "metadata": {},
   "outputs": [
    {
     "name": "stdout",
     "output_type": "stream",
     "text": [
      "1348\n"
     ]
    }
   ],
   "source": [
    "def day_01_part2(captcha):\n",
    "    length = len(captcha)\n",
    "    stride = length // 2\n",
    "    \n",
    "    result = 0\n",
    "    for i in range(length):\n",
    "        j = (i + stride) % length\n",
    "        if captcha[i] == captcha[j]:\n",
    "            result += int(captcha[i])\n",
    "            \n",
    "    return result\n",
    "\n",
    "print(day_01_part2(captcha))"
   ]
  },
  {
   "cell_type": "markdown",
   "metadata": {},
   "source": [
    "#### Code Golf"
   ]
  },
  {
   "cell_type": "code",
   "execution_count": 4,
   "metadata": {
    "collapsed": true
   },
   "outputs": [],
   "source": [
    "from functools import reduce\n",
    "x = captcha"
   ]
  },
  {
   "cell_type": "code",
   "execution_count": 5,
   "metadata": {},
   "outputs": [
    {
     "name": "stdout",
     "output_type": "stream",
     "text": [
      "1341\n",
      "1348\n",
      "1341\n",
      "1348\n",
      "1341\n",
      "1348\n"
     ]
    }
   ],
   "source": [
    "s=lambda o:print(reduce(lambda x,a:x+int(a[0])*(a[0]==a[1]),[0]+list(zip(x[o:]+x[:o],x))));s(1);s(len(x)//2)\n",
    "s=lambda o:print(sum([int(a)*(a==b) for a,b in zip(x[o:]+x[:o],x)]));s(1);s(len(x)//2)\n",
    "s=lambda o:print(sum(map(lambda a,b:int(a)*(a==b),x[o:]+x[:o],x)));s(1);s(len(x)//2)"
   ]
  },
  {
   "cell_type": "markdown",
   "metadata": {},
   "source": [
    "## --- Day 2: Corruption Checksum ---\n",
    "\n",
    "As you walk through the door, a glowing humanoid shape yells in your direction. \"You there! Your state appears to be idle. Come help us repair the corruption in this spreadsheet - if we take another millisecond, we'll have to display an hourglass cursor!\"\n",
    "\n",
    "The spreadsheet consists of rows of apparently-random numbers. To make sure the recovery process is on the right track, they need you to calculate the spreadsheet's checksum. For each row, determine the difference between the largest value and the smallest value; the checksum is the sum of all of these differences.\n",
    "\n",
    "For example, given the following spreadsheet:\n",
    "\n",
    "    5 1 9 5\n",
    "    7 5 3\n",
    "    2 4 6 8\n",
    "\n",
    "    The first row's largest and smallest values are 9 and 1, and their difference is 8.\n",
    "    The second row's largest and smallest values are 7 and 3, and their difference is 4.\n",
    "    The third row's difference is 6.\n",
    "\n",
    "In this example, the spreadsheet's checksum would be 8 + 4 + 6 = 18.\n",
    "\n",
    "What is the checksum for the spreadsheet in your puzzle input?\n"
   ]
  },
  {
   "cell_type": "code",
   "execution_count": 6,
   "metadata": {},
   "outputs": [
    {
     "name": "stdout",
     "output_type": "stream",
     "text": [
      "44216\n"
     ]
    }
   ],
   "source": [
    "spreadsheet = \"\"\"62\t1649\t1731\t76\t51\t1295\t349\t719\t52\t1984\t2015\t2171\t981\t1809\t181\t1715\n",
    "161\t99\t1506\t1658\t84\t78\t533\t242\t1685\t86\t107\t1548\t670\t960\t1641\t610\n",
    "95\t2420\t2404\t2293\t542\t2107\t2198\t121\t109\t209\t2759\t1373\t1446\t905\t1837\t111\n",
    "552\t186\t751\t527\t696\t164\t114\t530\t558\t307\t252\t200\t481\t142\t205\t479\n",
    "581\t1344\t994\t1413\t120\t112\t656\t1315\t1249\t193\t1411\t1280\t110\t103\t74\t1007\n",
    "2536\t5252\t159\t179\t4701\t1264\t1400\t2313\t4237\t161\t142\t4336\t1061\t3987\t2268\t4669\n",
    "3270\t1026\t381\t185\t293\t3520\t1705\t1610\t3302\t628\t3420\t524\t3172\t244\t295\t39\n",
    "4142\t1835\t4137\t3821\t3730\t2094\t468\t141\t150\t3982\t147\t4271\t1741\t2039\t4410\t179\n",
    "1796\t83\t2039\t1252\t84\t1641\t2165\t1218\t1936\t335\t1807\t2268\t66\t102\t1977\t2445\n",
    "96\t65\t201\t275\t257\t282\t233\t60\t57\t200\t216\t134\t72\t105\t81\t212\n",
    "3218\t5576\t5616\t5253\t178\t3317\t6147\t5973\t2424\t274\t4878\t234\t200\t4781\t5372\t276\n",
    "4171\t2436\t134\t3705\t3831\t3952\t2603\t115\t660\t125\t610\t152\t4517\t587\t1554\t619\n",
    "2970\t128\t2877\t1565\t1001\t167\t254\t2672\t59\t473\t2086\t181\t1305\t162\t1663\t2918\n",
    "271\t348\t229\t278\t981\t1785\t2290\t516\t473\t2037\t737\t2291\t2521\t1494\t1121\t244\n",
    "2208\t2236\t1451\t621\t1937\t1952\t865\t61\t1934\t49\t1510\t50\t1767\t59\t194\t1344\n",
    "94\t2312\t2397\t333\t1192\t106\t2713\t2351\t2650\t2663\t703\t157\t89\t510\t1824\t125\"\"\"\n",
    "\n",
    "def day_02_part1(spreadsheet):\n",
    "    rows = spreadsheet.strip().split('\\n')\n",
    "    rows = map(lambda x: list(map(int, x.split('\\t'))), rows)\n",
    "    return sum([max(row) - min(row) for row in rows])\n",
    "\n",
    "print(day_02_part1(spreadsheet))"
   ]
  },
  {
   "cell_type": "markdown",
   "metadata": {},
   "source": [
    "### --- Part Two ---\n",
    "\n",
    "\"Great work; looks like we're on the right track after all. Here's a star for your effort.\" However, the program seems a little worried. Can programs be worried?\n",
    "\n",
    "\"Based on what we're seeing, it looks like all the User wanted is some information about the evenly divisible values in the spreadsheet. Unfortunately, none of us are equipped for that kind of calculation - most of us specialize in bitwise operations.\"\n",
    "\n",
    "It sounds like the goal is to find the only two numbers in each row where one evenly divides the other - that is, where the result of the division operation is a whole number. They would like you to find those numbers on each line, divide them, and add up each line's result.\n",
    "\n",
    "For example, given the following spreadsheet:\n",
    "\n",
    "    5 9 2 8\n",
    "    9 4 7 3\n",
    "    3 8 6 5\n",
    "\n",
    "    In the first row, the only two numbers that evenly divide are 8 and 2; the result of this division is 4.\n",
    "    In the second row, the two numbers are 9 and 3; the result is 3.\n",
    "    In the third row, the result is 2.\n",
    "\n",
    "In this example, the sum of the results would be 4 + 3 + 2 = 9.\n",
    "\n",
    "What is the sum of each row's result in your puzzle input?"
   ]
  },
  {
   "cell_type": "code",
   "execution_count": 7,
   "metadata": {},
   "outputs": [
    {
     "name": "stdout",
     "output_type": "stream",
     "text": [
      "320\n"
     ]
    }
   ],
   "source": [
    "def day_02_part2(spreadsheet):\n",
    "    rows = spreadsheet.strip().split('\\n')\n",
    "    rows = map(lambda x: list(map(int, x.split('\\t'))), rows)\n",
    "    \n",
    "    result = 0\n",
    "    for row in rows:\n",
    "        for i in range(len(row)):\n",
    "            for j in range(len(row)):\n",
    "                if i != j and row[i] % row[j] == 0:\n",
    "                    result += row[i] // row[j]\n",
    "    return result\n",
    "\n",
    "print(day_02_part2(spreadsheet))"
   ]
  },
  {
   "cell_type": "markdown",
   "metadata": {},
   "source": [
    "## --- Day 3: Spiral Memory ---\n",
    "\n",
    "You come across an experimental new kind of memory stored on an infinite two-dimensional grid.\n",
    "\n",
    "Each square on the grid is allocated in a spiral pattern starting at a location marked 1 and then counting up while spiraling outward. For example, the first few squares are allocated like this:\n",
    "\n",
    "    17  16  15  14  13\n",
    "    18   5   4   3  12\n",
    "    19   6   1   2  11\n",
    "    20   7   8   9  10\n",
    "    21  22  23---> ...\n",
    "\n",
    "While this is very space-efficient (no squares are skipped), requested data must be carried back to square 1 (the location of the only access port for this memory system) by programs that can only move up, down, left, or right. They always take the shortest path: the Manhattan Distance between the location of the data and square 1.\n",
    "\n",
    "For example:\n",
    "\n",
    "    Data from square 1 is carried 0 steps, since it's at the access port.\n",
    "    Data from square 12 is carried 3 steps, such as: down, left, left.\n",
    "    Data from square 23 is carried only 2 steps: up twice.\n",
    "    Data from square 1024 must be carried 31 steps.\n",
    "\n",
    "How many steps are required to carry the data from the square identified in your puzzle input all the way to the access port?\n",
    "\n",
    "Your puzzle input is 347991."
   ]
  },
  {
   "cell_type": "code",
   "execution_count": 8,
   "metadata": {},
   "outputs": [
    {
     "name": "stdout",
     "output_type": "stream",
     "text": [
      "480\n"
     ]
    }
   ],
   "source": [
    "# pen & paper\n",
    "# int(sqrt(n)) -> how wide is the last quadrat\n",
    "# x = n**2 -> highest number in last quadrat\n",
    "# go on counting up to n\n",
    "n = 347991\n",
    "print(480)"
   ]
  },
  {
   "cell_type": "markdown",
   "metadata": {},
   "source": [
    "### --- Part Two ---\n",
    "\n",
    "As a stress test on the system, the programs here clear the grid and then store the value 1 in square 1. Then, in the same allocation order as shown above, they store the sum of the values in all adjacent squares, including diagonals.\n",
    "\n",
    "So, the first few squares' values are chosen as follows:\n",
    "\n",
    "    Square 1 starts with the value 1.\n",
    "    Square 2 has only one adjacent filled square (with value 1), so it also stores 1.\n",
    "    Square 3 has both of the above squares as neighbors and stores the sum of their values, 2.\n",
    "    Square 4 has all three of the aforementioned squares as neighbors and stores the sum of their values, 4.\n",
    "    Square 5 only has the first and fourth squares as neighbors, so it gets the value 5.\n",
    "\n",
    "Once a square is written, its value does not change. Therefore, the first few squares would receive the following values:\n",
    "\n",
    "    147  142  133  122   59\n",
    "    304    5    4    2   57\n",
    "    330   10    1    1   54\n",
    "    351   11   23   25   26\n",
    "    362  747  806--->   ...\n",
    "\n",
    "What is the first value written that is larger than your puzzle input?\n",
    "\n",
    "Your puzzle input is still 347991."
   ]
  },
  {
   "cell_type": "code",
   "execution_count": 9,
   "metadata": {},
   "outputs": [
    {
     "name": "stdout",
     "output_type": "stream",
     "text": [
      "349975\n"
     ]
    }
   ],
   "source": [
    "convolve_coordinates = [(-1, -1), (0, -1), (1, -1), (-1, 0), (0, 0), (1, 0), (-1, 1), (0, 1), (1, 1)]\n",
    "\n",
    "\n",
    "def element_add(a, b):\n",
    "    return tuple(i+j for i, j in zip(a, b))\n",
    "\n",
    "\n",
    "def spiral():\n",
    "    a = defaultdict(int)\n",
    "    coord = (0, 0)\n",
    "    a[coord] = 1\n",
    "    \n",
    "    def convolve(coord): \n",
    "        return sum(a[element_add(coord, dcoord)] for dcoord in convolve_coordinates)\n",
    "    \n",
    "    # right, up, left, down\n",
    "    moves = [((1, 0), 0), ((0, -1), 0), ((-1, 0), 1), ((0, 1), 1)]\n",
    "    \n",
    "    for s in count(1, 2):\n",
    "        for move, ds in moves:\n",
    "            for _ in range(s+ds):\n",
    "                coord = element_add(coord, move)\n",
    "                a[coord] = convolve(coord)\n",
    "                yield a[coord]\n",
    "                \n",
    "    \n",
    "def day_03_part2(n):\n",
    "    for i in spiral():\n",
    "        if i > n:\n",
    "            return i\n",
    "\n",
    "print(day_03_part2(n))"
   ]
  },
  {
   "cell_type": "markdown",
   "metadata": {},
   "source": [
    "## --- Day 4: High-Entropy Passphrases ---\n",
    "\n",
    "A new system policy has been put in place that requires all accounts to use a passphrase instead of simply a password. A passphrase consists of a series of words (lowercase letters) separated by spaces.\n",
    "\n",
    "To ensure security, a valid passphrase must contain no duplicate words.\n",
    "\n",
    "For example:\n",
    "\n",
    "    aa bb cc dd ee is valid.\n",
    "    aa bb cc dd aa is not valid - the word aa appears more than once.\n",
    "    aa bb cc dd aaa is valid - aa and aaa count as different words.\n",
    "\n",
    "The system's full passphrase list is available as your puzzle input. How many passphrases are valid?\n"
   ]
  },
  {
   "cell_type": "code",
   "execution_count": 10,
   "metadata": {},
   "outputs": [
    {
     "name": "stdout",
     "output_type": "stream",
     "text": [
      "386\n"
     ]
    }
   ],
   "source": [
    "def day_04_part1(file_name):\n",
    "    valid_phrases = 0\n",
    "    with open(file_name, 'r') as f:\n",
    "        for line in f.readlines():\n",
    "            words = line.strip().split(' ')\n",
    "            valid = True\n",
    "            \n",
    "            if len(words) < 2:\n",
    "                continue\n",
    "\n",
    "            for word in words:\n",
    "                if words.count(word) > 1:\n",
    "                    valid = False\n",
    "                    break\n",
    "\n",
    "            if valid:\n",
    "                valid_phrases += 1\n",
    "\n",
    "    return valid_phrases\n",
    "\n",
    "print(day_04_part1('day4.txt'))"
   ]
  },
  {
   "cell_type": "markdown",
   "metadata": {},
   "source": [
    "### --- Part Two ---\n",
    "\n",
    "For added security, yet another system policy has been put in place. Now, a valid passphrase must contain no two words that are anagrams of each other - that is, a passphrase is invalid if any word's letters can be rearranged to form any other word in the passphrase.\n",
    "\n",
    "For example:\n",
    "\n",
    "    abcde fghij is a valid passphrase.\n",
    "    abcde xyz ecdab is not valid - the letters from the third word can be rearranged to form the first word.\n",
    "    a ab abc abd abf abj is a valid passphrase, because all letters need to be used when forming another word.\n",
    "    iiii oiii ooii oooi oooo is valid.\n",
    "    oiii ioii iioi iiio is not valid - any of these words can be rearranged to form any other word.\n",
    "\n",
    "Under this new system policy, how many passphrases are valid?\n"
   ]
  },
  {
   "cell_type": "code",
   "execution_count": 11,
   "metadata": {},
   "outputs": [
    {
     "name": "stdout",
     "output_type": "stream",
     "text": [
      "208\n"
     ]
    }
   ],
   "source": [
    "def day_04_part2(file_name):\n",
    "    valid_phrases = 0\n",
    "    with open(file_name, 'r') as f:\n",
    "        for line in f.readlines():\n",
    "            words = line.strip().split(' ')\n",
    "            \n",
    "            valid = True\n",
    "            \n",
    "            if len(words) < 2:\n",
    "                continue\n",
    "\n",
    "            char_multiplicity = []\n",
    "            for word in words:\n",
    "                d = {}\n",
    "                for char in word:\n",
    "                    if char not in d:\n",
    "                        d[char] = 0\n",
    "                    d[char] += 1\n",
    "                char_multiplicity.append(d)\n",
    "                \n",
    "            for word in char_multiplicity:\n",
    "                if char_multiplicity.count(word) > 1:\n",
    "                    valid = False\n",
    "                    break\n",
    "\n",
    "            if valid:\n",
    "                valid_phrases += 1\n",
    "\n",
    "    return valid_phrases\n",
    "\n",
    "print(day_04_part2('day4.txt'))"
   ]
  },
  {
   "cell_type": "markdown",
   "metadata": {},
   "source": [
    "## --- Day 5: A Maze of Twisty Trampolines, All Alike ---\n",
    "\n",
    "An urgent interrupt arrives from the CPU: it's trapped in a maze of jump instructions, and it would like assistance from any programs with spare cycles to help find the exit.\n",
    "\n",
    "The message includes a list of the offsets for each jump. Jumps are relative: -1 moves to the previous instruction, and 2 skips the next one. Start at the first instruction in the list. The goal is to follow the jumps until one leads outside the list.\n",
    "\n",
    "In addition, these instructions are a little strange; after each jump, the offset of that instruction increases by 1. So, if you come across an offset of 3, you would move three instructions forward, but change it to a 4 for the next time it is encountered.\n",
    "\n",
    "For example, consider the following list of jump offsets:\n",
    "\n",
    "    0\n",
    "    3\n",
    "    0\n",
    "    1\n",
    "    -3\n",
    "\n",
    "Positive jumps (\"forward\") move downward; negative jumps move upward. For legibility in this example, these offset values will be written all on one line, with the current instruction marked in parentheses. The following steps would be taken before an exit is found:\n",
    "\n",
    "    (0) 3  0  1  -3  - before we have taken any steps.\n",
    "    (1) 3  0  1  -3  - jump with offset 0 (that is, don't jump at all). Fortunately, the instruction is then incremented to 1.\n",
    "     2 (3) 0  1  -3  - step forward because of the instruction we just modified. The first instruction is incremented again, now to 2.\n",
    "     2  4  0  1 (-3) - jump all the way to the end; leave a 4 behind.\n",
    "     2 (4) 0  1  -2  - go back to where we just were; increment -3 to -2.\n",
    "     2  5  0  1  -2  - jump 4 steps forward, escaping the maze.\n",
    "\n",
    "In this example, the exit is reached in 5 steps.\n",
    "\n",
    "How many steps does it take to reach the exit?"
   ]
  },
  {
   "cell_type": "code",
   "execution_count": 12,
   "metadata": {},
   "outputs": [
    {
     "name": "stdout",
     "output_type": "stream",
     "text": [
      "358131\n"
     ]
    }
   ],
   "source": [
    "def day_05_part1(file_name):\n",
    "    with open(file_name, 'r') as f:\n",
    "        content = f.read().strip()\n",
    "    numbers = list(map(int, content.split('\\n')))\n",
    "    \n",
    "    i = 0\n",
    "    steps = 0\n",
    "    while i < len(numbers):\n",
    "        tmp_i = i\n",
    "        i = i + numbers[i]\n",
    "        numbers[tmp_i] += 1\n",
    "        \n",
    "        steps += 1\n",
    "    \n",
    "    return steps\n",
    "\n",
    "print(day_05_part1('day5.txt'))"
   ]
  },
  {
   "cell_type": "markdown",
   "metadata": {},
   "source": [
    "### --- Part Two ---\n",
    "\n",
    "Now, the jumps are even stranger: after each jump, if the offset was three or more, instead decrease it by 1. Otherwise, increase it by 1 as before.\n",
    "\n",
    "Using this rule with the above example, the process now takes 10 steps, and the offset values after finding the exit are left as 2 3 2 3 -1.\n",
    "\n",
    "How many steps does it now take to reach the exit?"
   ]
  },
  {
   "cell_type": "code",
   "execution_count": 13,
   "metadata": {},
   "outputs": [
    {
     "name": "stdout",
     "output_type": "stream",
     "text": [
      "25558839\n"
     ]
    }
   ],
   "source": [
    "def day_05_part2(file_name):\n",
    "    with open(file_name, 'r') as f:\n",
    "        content = f.read().strip()\n",
    "    numbers = list(map(int, content.split('\\n')))\n",
    "    \n",
    "    i = 0\n",
    "    steps = 0\n",
    "    while i < len(numbers):\n",
    "        tmp_i = i\n",
    "        i = i + numbers[i]\n",
    "        \n",
    "        if numbers[tmp_i] >= 3:\n",
    "            numbers[tmp_i] -= 1\n",
    "        else:\n",
    "            numbers[tmp_i] += 1\n",
    "        \n",
    "        steps += 1\n",
    "    \n",
    "    return steps\n",
    "\n",
    "print(day_05_part2('day5.txt'))"
   ]
  }
 ],
 "metadata": {
  "kernelspec": {
   "display_name": "Python 3",
   "language": "python",
   "name": "python3"
  },
  "language_info": {
   "codemirror_mode": {
    "name": "ipython",
    "version": 3
   },
   "file_extension": ".py",
   "mimetype": "text/x-python",
   "name": "python",
   "nbconvert_exporter": "python",
   "pygments_lexer": "ipython3",
   "version": "3.6.1+"
  }
 },
 "nbformat": 4,
 "nbformat_minor": 2
}
