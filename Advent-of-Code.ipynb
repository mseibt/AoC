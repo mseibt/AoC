{
 "cells": [
  {
   "cell_type": "markdown",
   "metadata": {},
   "source": [
    "# Advent of Code\n",
    "\n",
    "Puzzles by: http://adventofcode.com/"
   ]
  },
  {
   "cell_type": "code",
   "execution_count": 1,
   "metadata": {
    "collapsed": true
   },
   "outputs": [],
   "source": [
    "from collections import defaultdict\n",
    "from itertools import count"
   ]
  },
  {
   "cell_type": "markdown",
   "metadata": {},
   "source": [
    "## --- Day 1: Inverse Captcha ---\n",
    "\n",
    "The night before Christmas, one of Santa's Elves calls you in a panic. \"The printer's broken! We can't print the Naughty or Nice List!\" By the time you make it to sub-basement 17, there are only a few minutes until midnight. \"We have a big problem,\" she says; \"there must be almost fifty bugs in this system, but nothing else can print The List. Stand in this square, quick! There's no time to explain; if you can convince them to pay you in stars, you'll be able to--\" She pulls a lever and the world goes blurry.\n",
    "\n",
    "When your eyes can focus again, everything seems a lot more pixelated than before. She must have sent you inside the computer! You check the system clock: 25 milliseconds until midnight. With that much time, you should be able to collect all fifty stars by December 25th.\n",
    "\n",
    "Collect stars by solving puzzles. Two puzzles will be made available on each day millisecond in the advent calendar; the second puzzle is unlocked when you complete the first. Each puzzle grants one star. Good luck!\n",
    "\n",
    "You're standing in a room with \"digitization quarantine\" written in LEDs along one wall. The only door is locked, but it includes a small interface. \"Restricted Area - Strictly No Digitized Users Allowed.\"\n",
    "\n",
    "It goes on to explain that you may only leave by solving a captcha to prove you're not a human. Apparently, you only get one millisecond to solve the captcha: too fast for a normal human, but it feels like hours to you.\n",
    "\n",
    "The captcha requires you to review a sequence of digits (your puzzle input) and find the sum of all digits that match the next digit in the list. The list is circular, so the digit after the last digit is the first digit in the list.\n",
    "\n",
    "For example:\n",
    "\n",
    "    1122 produces a sum of 3 (1 + 2) because the first digit (1) matches the second digit and the third digit (2) matches the fourth digit.\n",
    "    1111 produces 4 because each digit (all 1) matches the next.\n",
    "    1234 produces 0 because no digit matches the next.\n",
    "    91212129 produces 9 because the only digit that matches the next one is the last digit, 9.\n",
    "\n",
    "What is the solution to your captcha?\n"
   ]
  },
  {
   "cell_type": "code",
   "execution_count": 2,
   "metadata": {},
   "outputs": [
    {
     "name": "stdout",
     "output_type": "stream",
     "text": [
      "1341\n"
     ]
    }
   ],
   "source": [
    "def day_01_part1(file_name):\n",
    "    with open(file_name, 'r') as f:\n",
    "        captcha = f.read().strip()\n",
    "\n",
    "    result = 0\n",
    "    last = captcha[-1]\n",
    "    for i in captcha:\n",
    "        if last == i:\n",
    "            result += int(i)\n",
    "        last = i\n",
    "\n",
    "    return result\n",
    "\n",
    "print(day_01_part1('day1.txt'))"
   ]
  },
  {
   "cell_type": "markdown",
   "metadata": {},
   "source": [
    "### --- Part Two ---\n",
    "\n",
    "You notice a progress bar that jumps to 50% completion. Apparently, the door isn't yet satisfied, but it did emit a star as encouragement. The instructions change:\n",
    "\n",
    "Now, instead of considering the next digit, it wants you to consider the digit halfway around the circular list. That is, if your list contains 10 items, only include a digit in your sum if the digit 10/2 = 5 steps forward matches it. Fortunately, your list has an even number of elements.\n",
    "\n",
    "For example:\n",
    "\n",
    "    1212 produces 6: the list contains 4 items, and all four digits match the digit 2 items ahead.\n",
    "    1221 produces 0, because every comparison is between a 1 and a 2.\n",
    "    123425 produces 4, because both 2s match each other, but no other digit has a match.\n",
    "    123123 produces 12.\n",
    "    12131415 produces 4.\n"
   ]
  },
  {
   "cell_type": "code",
   "execution_count": 3,
   "metadata": {},
   "outputs": [
    {
     "name": "stdout",
     "output_type": "stream",
     "text": [
      "1348\n"
     ]
    }
   ],
   "source": [
    "def day_01_part2(file_name):\n",
    "    with open(file_name, 'r') as f:\n",
    "        captcha = f.read().strip()\n",
    "\n",
    "    length = len(captcha)\n",
    "    stride = length // 2\n",
    "\n",
    "    result = 0\n",
    "    for i in range(length):\n",
    "        j = (i + stride) % length\n",
    "        if captcha[i] == captcha[j]:\n",
    "            result += int(captcha[i])\n",
    "\n",
    "    return result\n",
    "\n",
    "print(day_01_part2('day1.txt'))"
   ]
  },
  {
   "cell_type": "markdown",
   "metadata": {},
   "source": [
    "#### Code Golf"
   ]
  },
  {
   "cell_type": "code",
   "execution_count": 4,
   "metadata": {},
   "outputs": [
    {
     "name": "stdout",
     "output_type": "stream",
     "text": [
      "1341\n",
      "1348\n"
     ]
    }
   ],
   "source": [
    "x=open('day1.txt').read().strip()\n",
    "s=lambda o:print(sum(map(lambda a,b:int(a)*(a==b),x[o:]+x[:o],x)));s(1);s(len(x)//2)"
   ]
  },
  {
   "cell_type": "markdown",
   "metadata": {},
   "source": [
    "## --- Day 2: Corruption Checksum ---\n",
    "\n",
    "As you walk through the door, a glowing humanoid shape yells in your direction. \"You there! Your state appears to be idle. Come help us repair the corruption in this spreadsheet - if we take another millisecond, we'll have to display an hourglass cursor!\"\n",
    "\n",
    "The spreadsheet consists of rows of apparently-random numbers. To make sure the recovery process is on the right track, they need you to calculate the spreadsheet's checksum. For each row, determine the difference between the largest value and the smallest value; the checksum is the sum of all of these differences.\n",
    "\n",
    "For example, given the following spreadsheet:\n",
    "\n",
    "    5 1 9 5\n",
    "    7 5 3\n",
    "    2 4 6 8\n",
    "\n",
    "    The first row's largest and smallest values are 9 and 1, and their difference is 8.\n",
    "    The second row's largest and smallest values are 7 and 3, and their difference is 4.\n",
    "    The third row's difference is 6.\n",
    "\n",
    "In this example, the spreadsheet's checksum would be 8 + 4 + 6 = 18.\n",
    "\n",
    "What is the checksum for the spreadsheet in your puzzle input?\n"
   ]
  },
  {
   "cell_type": "code",
   "execution_count": 5,
   "metadata": {},
   "outputs": [
    {
     "name": "stdout",
     "output_type": "stream",
     "text": [
      "44216\n"
     ]
    }
   ],
   "source": [
    "def day_02_part1(file_name):\n",
    "    with open(file_name, 'r') as f:\n",
    "        spreadsheet = f.read().strip()\n",
    "\n",
    "    rows = spreadsheet.strip().split('\\n')\n",
    "    rows = map(lambda x: list(map(int, x.split('\\t'))), rows)\n",
    "    return sum([max(row) - min(row) for row in rows])\n",
    "\n",
    "print(day_02_part1('day2.txt'))"
   ]
  },
  {
   "cell_type": "markdown",
   "metadata": {},
   "source": [
    "### --- Part Two ---\n",
    "\n",
    "\"Great work; looks like we're on the right track after all. Here's a star for your effort.\" However, the program seems a little worried. Can programs be worried?\n",
    "\n",
    "\"Based on what we're seeing, it looks like all the User wanted is some information about the evenly divisible values in the spreadsheet. Unfortunately, none of us are equipped for that kind of calculation - most of us specialize in bitwise operations.\"\n",
    "\n",
    "It sounds like the goal is to find the only two numbers in each row where one evenly divides the other - that is, where the result of the division operation is a whole number. They would like you to find those numbers on each line, divide them, and add up each line's result.\n",
    "\n",
    "For example, given the following spreadsheet:\n",
    "\n",
    "    5 9 2 8\n",
    "    9 4 7 3\n",
    "    3 8 6 5\n",
    "\n",
    "    In the first row, the only two numbers that evenly divide are 8 and 2; the result of this division is 4.\n",
    "    In the second row, the two numbers are 9 and 3; the result is 3.\n",
    "    In the third row, the result is 2.\n",
    "\n",
    "In this example, the sum of the results would be 4 + 3 + 2 = 9.\n",
    "\n",
    "What is the sum of each row's result in your puzzle input?"
   ]
  },
  {
   "cell_type": "code",
   "execution_count": 6,
   "metadata": {},
   "outputs": [
    {
     "name": "stdout",
     "output_type": "stream",
     "text": [
      "320\n"
     ]
    }
   ],
   "source": [
    "def day_02_part2(file_name):\n",
    "    with open(file_name, 'r') as f:\n",
    "        spreadsheet = f.read().strip()\n",
    "\n",
    "    rows = spreadsheet.strip().split('\\n')\n",
    "    rows = map(lambda x: list(map(int, x.split('\\t'))), rows)\n",
    "\n",
    "    result = 0\n",
    "    for row in rows:\n",
    "        for i in range(len(row)):\n",
    "            for j in range(len(row)):\n",
    "                if i != j and row[i] % row[j] == 0:\n",
    "                    result += row[i] // row[j]\n",
    "    return result\n",
    "\n",
    "print(day_02_part2('day2.txt'))"
   ]
  },
  {
   "cell_type": "markdown",
   "metadata": {},
   "source": [
    "## --- Day 3: Spiral Memory ---\n",
    "\n",
    "You come across an experimental new kind of memory stored on an infinite two-dimensional grid.\n",
    "\n",
    "Each square on the grid is allocated in a spiral pattern starting at a location marked 1 and then counting up while spiraling outward. For example, the first few squares are allocated like this:\n",
    "\n",
    "    17  16  15  14  13\n",
    "    18   5   4   3  12\n",
    "    19   6   1   2  11\n",
    "    20   7   8   9  10\n",
    "    21  22  23---> ...\n",
    "\n",
    "While this is very space-efficient (no squares are skipped), requested data must be carried back to square 1 (the location of the only access port for this memory system) by programs that can only move up, down, left, or right. They always take the shortest path: the Manhattan Distance between the location of the data and square 1.\n",
    "\n",
    "For example:\n",
    "\n",
    "    Data from square 1 is carried 0 steps, since it's at the access port.\n",
    "    Data from square 12 is carried 3 steps, such as: down, left, left.\n",
    "    Data from square 23 is carried only 2 steps: up twice.\n",
    "    Data from square 1024 must be carried 31 steps.\n",
    "\n",
    "How many steps are required to carry the data from the square identified in your puzzle input all the way to the access port?\n",
    "\n",
    "Your puzzle input is 347991."
   ]
  },
  {
   "cell_type": "code",
   "execution_count": 7,
   "metadata": {},
   "outputs": [
    {
     "name": "stdout",
     "output_type": "stream",
     "text": [
      "480\n"
     ]
    }
   ],
   "source": [
    "# pen & paper\n",
    "# int(sqrt(n)) -> how wide is the last quadrat\n",
    "# x = n**2 -> highest number in last quadrat\n",
    "# go on counting up to n\n",
    "n = 347991\n",
    "print(480)"
   ]
  },
  {
   "cell_type": "markdown",
   "metadata": {},
   "source": [
    "### --- Part Two ---\n",
    "\n",
    "As a stress test on the system, the programs here clear the grid and then store the value 1 in square 1. Then, in the same allocation order as shown above, they store the sum of the values in all adjacent squares, including diagonals.\n",
    "\n",
    "So, the first few squares' values are chosen as follows:\n",
    "\n",
    "    Square 1 starts with the value 1.\n",
    "    Square 2 has only one adjacent filled square (with value 1), so it also stores 1.\n",
    "    Square 3 has both of the above squares as neighbors and stores the sum of their values, 2.\n",
    "    Square 4 has all three of the aforementioned squares as neighbors and stores the sum of their values, 4.\n",
    "    Square 5 only has the first and fourth squares as neighbors, so it gets the value 5.\n",
    "\n",
    "Once a square is written, its value does not change. Therefore, the first few squares would receive the following values:\n",
    "\n",
    "    147  142  133  122   59\n",
    "    304    5    4    2   57\n",
    "    330   10    1    1   54\n",
    "    351   11   23   25   26\n",
    "    362  747  806--->   ...\n",
    "\n",
    "What is the first value written that is larger than your puzzle input?\n",
    "\n",
    "Your puzzle input is still 347991."
   ]
  },
  {
   "cell_type": "code",
   "execution_count": 8,
   "metadata": {},
   "outputs": [
    {
     "name": "stdout",
     "output_type": "stream",
     "text": [
      "349975\n"
     ]
    }
   ],
   "source": [
    "convolve_coordinates = [(-1, -1), (0, -1), (1, -1), (-1, 0), (0, 0), (1, 0), (-1, 1), (0, 1), (1, 1)]\n",
    "\n",
    "\n",
    "def element_add(a, b):\n",
    "    return tuple(i+j for i, j in zip(a, b))\n",
    "\n",
    "\n",
    "def spiral():\n",
    "    a = defaultdict(int)\n",
    "    coord = (0, 0)\n",
    "    a[coord] = 1\n",
    "\n",
    "    def convolve(coord): \n",
    "        return sum(a[element_add(coord, dcoord)] for dcoord in convolve_coordinates)\n",
    "\n",
    "    # right, up, left, down\n",
    "    moves = [((1, 0), 0), ((0, -1), 0), ((-1, 0), 1), ((0, 1), 1)]\n",
    "\n",
    "    for s in count(1, 2):\n",
    "        for move, ds in moves:\n",
    "            for _ in range(s+ds):\n",
    "                coord = element_add(coord, move)\n",
    "                a[coord] = convolve(coord)\n",
    "                yield a[coord]\n",
    "\n",
    "\n",
    "def day_03_part2(n):\n",
    "    for i in spiral():\n",
    "        if i > n:\n",
    "            return i\n",
    "\n",
    "print(day_03_part2(n))"
   ]
  },
  {
   "cell_type": "markdown",
   "metadata": {},
   "source": [
    "## --- Day 4: High-Entropy Passphrases ---\n",
    "\n",
    "A new system policy has been put in place that requires all accounts to use a passphrase instead of simply a password. A passphrase consists of a series of words (lowercase letters) separated by spaces.\n",
    "\n",
    "To ensure security, a valid passphrase must contain no duplicate words.\n",
    "\n",
    "For example:\n",
    "\n",
    "    aa bb cc dd ee is valid.\n",
    "    aa bb cc dd aa is not valid - the word aa appears more than once.\n",
    "    aa bb cc dd aaa is valid - aa and aaa count as different words.\n",
    "\n",
    "The system's full passphrase list is available as your puzzle input. How many passphrases are valid?\n"
   ]
  },
  {
   "cell_type": "code",
   "execution_count": 9,
   "metadata": {},
   "outputs": [
    {
     "name": "stdout",
     "output_type": "stream",
     "text": [
      "386\n"
     ]
    }
   ],
   "source": [
    "def day_04_part1(file_name):\n",
    "    valid_phrases = 0\n",
    "    with open(file_name, 'r') as f:\n",
    "        for line in f.readlines():\n",
    "            words = line.strip().split(' ')\n",
    "            valid = True\n",
    "\n",
    "            if len(words) < 2:\n",
    "                continue\n",
    "\n",
    "            for word in words:\n",
    "                if words.count(word) > 1:\n",
    "                    valid = False\n",
    "                    break\n",
    "\n",
    "            if valid:\n",
    "                valid_phrases += 1\n",
    "\n",
    "    return valid_phrases\n",
    "\n",
    "print(day_04_part1('day4.txt'))"
   ]
  },
  {
   "cell_type": "markdown",
   "metadata": {},
   "source": [
    "### --- Part Two ---\n",
    "\n",
    "For added security, yet another system policy has been put in place. Now, a valid passphrase must contain no two words that are anagrams of each other - that is, a passphrase is invalid if any word's letters can be rearranged to form any other word in the passphrase.\n",
    "\n",
    "For example:\n",
    "\n",
    "    abcde fghij is a valid passphrase.\n",
    "    abcde xyz ecdab is not valid - the letters from the third word can be rearranged to form the first word.\n",
    "    a ab abc abd abf abj is a valid passphrase, because all letters need to be used when forming another word.\n",
    "    iiii oiii ooii oooi oooo is valid.\n",
    "    oiii ioii iioi iiio is not valid - any of these words can be rearranged to form any other word.\n",
    "\n",
    "Under this new system policy, how many passphrases are valid?\n"
   ]
  },
  {
   "cell_type": "code",
   "execution_count": 10,
   "metadata": {},
   "outputs": [
    {
     "name": "stdout",
     "output_type": "stream",
     "text": [
      "208\n"
     ]
    }
   ],
   "source": [
    "def day_04_part2(file_name):\n",
    "    valid_phrases = 0\n",
    "    with open(file_name, 'r') as f:\n",
    "        for line in f.readlines():\n",
    "            words = line.strip().split(' ')\n",
    "\n",
    "            valid = True\n",
    "\n",
    "            if len(words) < 2:\n",
    "                continue\n",
    "\n",
    "            char_multiplicity = []\n",
    "            for word in words:\n",
    "                d = {}\n",
    "                for char in word:\n",
    "                    if char not in d:\n",
    "                        d[char] = 0\n",
    "                    d[char] += 1\n",
    "                char_multiplicity.append(d)\n",
    "\n",
    "            for word in char_multiplicity:\n",
    "                if char_multiplicity.count(word) > 1:\n",
    "                    valid = False\n",
    "                    break\n",
    "\n",
    "            if valid:\n",
    "                valid_phrases += 1\n",
    "\n",
    "    return valid_phrases\n",
    "\n",
    "print(day_04_part2('day4.txt'))"
   ]
  },
  {
   "cell_type": "markdown",
   "metadata": {},
   "source": [
    "## --- Day 5: A Maze of Twisty Trampolines, All Alike ---\n",
    "\n",
    "An urgent interrupt arrives from the CPU: it's trapped in a maze of jump instructions, and it would like assistance from any programs with spare cycles to help find the exit.\n",
    "\n",
    "The message includes a list of the offsets for each jump. Jumps are relative: -1 moves to the previous instruction, and 2 skips the next one. Start at the first instruction in the list. The goal is to follow the jumps until one leads outside the list.\n",
    "\n",
    "In addition, these instructions are a little strange; after each jump, the offset of that instruction increases by 1. So, if you come across an offset of 3, you would move three instructions forward, but change it to a 4 for the next time it is encountered.\n",
    "\n",
    "For example, consider the following list of jump offsets:\n",
    "\n",
    "    0\n",
    "    3\n",
    "    0\n",
    "    1\n",
    "    -3\n",
    "\n",
    "Positive jumps (\"forward\") move downward; negative jumps move upward. For legibility in this example, these offset values will be written all on one line, with the current instruction marked in parentheses. The following steps would be taken before an exit is found:\n",
    "\n",
    "    (0) 3  0  1  -3  - before we have taken any steps.\n",
    "    (1) 3  0  1  -3  - jump with offset 0 (that is, don't jump at all). Fortunately, the instruction is then incremented to 1.\n",
    "     2 (3) 0  1  -3  - step forward because of the instruction we just modified. The first instruction is incremented again, now to 2.\n",
    "     2  4  0  1 (-3) - jump all the way to the end; leave a 4 behind.\n",
    "     2 (4) 0  1  -2  - go back to where we just were; increment -3 to -2.\n",
    "     2  5  0  1  -2  - jump 4 steps forward, escaping the maze.\n",
    "\n",
    "In this example, the exit is reached in 5 steps.\n",
    "\n",
    "How many steps does it take to reach the exit?"
   ]
  },
  {
   "cell_type": "code",
   "execution_count": 11,
   "metadata": {},
   "outputs": [
    {
     "name": "stdout",
     "output_type": "stream",
     "text": [
      "358131\n"
     ]
    }
   ],
   "source": [
    "def day_05_part1(file_name):\n",
    "    with open(file_name, 'r') as f:\n",
    "        content = f.read().strip()\n",
    "    numbers = list(map(int, content.split('\\n')))\n",
    "\n",
    "    i = 0\n",
    "    steps = 0\n",
    "    while i < len(numbers):\n",
    "        tmp_i = i\n",
    "        i = i + numbers[i]\n",
    "        numbers[tmp_i] += 1\n",
    "\n",
    "        steps += 1\n",
    "\n",
    "    return steps\n",
    "\n",
    "print(day_05_part1('day5.txt'))"
   ]
  },
  {
   "cell_type": "markdown",
   "metadata": {},
   "source": [
    "### --- Part Two ---\n",
    "\n",
    "Now, the jumps are even stranger: after each jump, if the offset was three or more, instead decrease it by 1. Otherwise, increase it by 1 as before.\n",
    "\n",
    "Using this rule with the above example, the process now takes 10 steps, and the offset values after finding the exit are left as 2 3 2 3 -1.\n",
    "\n",
    "How many steps does it now take to reach the exit?"
   ]
  },
  {
   "cell_type": "code",
   "execution_count": 12,
   "metadata": {},
   "outputs": [
    {
     "name": "stdout",
     "output_type": "stream",
     "text": [
      "25558839\n"
     ]
    }
   ],
   "source": [
    "def day_05_part2(file_name):\n",
    "    with open(file_name, 'r') as f:\n",
    "        content = f.read().strip()\n",
    "    numbers = list(map(int, content.split('\\n')))\n",
    "\n",
    "    i = 0\n",
    "    steps = 0\n",
    "    while i < len(numbers):\n",
    "        tmp_i = i\n",
    "        i = i + numbers[i]\n",
    "\n",
    "        if numbers[tmp_i] >= 3:\n",
    "            numbers[tmp_i] -= 1\n",
    "        else:\n",
    "            numbers[tmp_i] += 1\n",
    "\n",
    "        steps += 1\n",
    "\n",
    "    return steps\n",
    "\n",
    "print(day_05_part2('day5.txt'))"
   ]
  },
  {
   "cell_type": "markdown",
   "metadata": {},
   "source": [
    "## --- Day 6: Memory Reallocation ---\n",
    "\n",
    "A debugger program here is having an issue: it is trying to repair a memory reallocation routine, but it keeps getting stuck in an infinite loop.\n",
    "\n",
    "In this area, there are sixteen memory banks; each memory bank can hold any number of blocks. The goal of the reallocation routine is to balance the blocks between the memory banks.\n",
    "\n",
    "The reallocation routine operates in cycles. In each cycle, it finds the memory bank with the most blocks (ties won by the lowest-numbered memory bank) and redistributes those blocks among the banks. To do this, it removes all of the blocks from the selected bank, then moves to the next (by index) memory bank and inserts one of the blocks. It continues doing this until it runs out of blocks; if it reaches the last memory bank, it wraps around to the first one.\n",
    "\n",
    "The debugger would like to know how many redistributions can be done before a blocks-in-banks configuration is produced that has been seen before.\n",
    "\n",
    "For example, imagine a scenario with only four memory banks:\n",
    "\n",
    "    * The banks start with 0, 2, 7, and 0 blocks. The third bank has the most blocks, so it is chosen for redistribution.\n",
    "    \n",
    "    * Starting with the next bank (the fourth bank) and then continuing to the first bank, the second bank, and so on, the 7 blocks are spread out over the memory banks. The fourth, first, and second banks get two blocks each, and the third bank gets one back. The final result looks like this: 2 4 1 2.\n",
    "    \n",
    "    * Next, the second bank is chosen because it contains the most blocks (four). Because there are four memory banks, each gets one block. The result is: 3 1 2 3.\n",
    "    \n",
    "    * Now, there is a tie between the first and fourth memory banks, both of which have three blocks. The first bank wins the tie, and its three blocks are distributed evenly over the other three banks, leaving it with none: 0 2 3 4.\n",
    "    \n",
    "    * The fourth bank is chosen, and its four blocks are distributed such that each of the four banks receives one: 1 3 4 1.\n",
    "    \n",
    "    * The third bank is chosen, and the same thing happens: 2 4 1 2.\n",
    "\n",
    "At this point, we've reached a state we've seen before: 2 4 1 2 was already seen. The infinite loop is detected after the fifth block redistribution cycle, and so the answer in this example is 5.\n",
    "\n",
    "Given the initial block counts in your puzzle input, how many redistribution cycles must be completed before a configuration is produced that has been seen before?\n",
    "\n",
    "### --- Part Two ---\n",
    "\n",
    "Out of curiosity, the debugger would also like to know the size of the loop: starting from a state that has already been seen, how many block redistribution cycles must be performed before that same state is seen again?\n",
    "\n",
    "In the example above, 2 4 1 2 is seen again after four cycles, and so the answer in that example would be 4.\n",
    "\n",
    "How many cycles are in the infinite loop that arises from the configuration in your puzzle input?"
   ]
  },
  {
   "cell_type": "code",
   "execution_count": 13,
   "metadata": {},
   "outputs": [
    {
     "name": "stdout",
     "output_type": "stream",
     "text": [
      "5042 1086\n"
     ]
    }
   ],
   "source": [
    "numbers = '5 1 10 0 1 7 13 14 3 12 8 10 7 12 0 6'\n",
    "\n",
    "def day_06(numbers):\n",
    "    numbers = list(map(int, numbers.split(' ')))\n",
    "    l = len(numbers)\n",
    "\n",
    "    redistributions = 0\n",
    "    cache = []\n",
    "    while numbers not in cache:\n",
    "        redistributions += 1\n",
    "        cache.append(numbers[:])\n",
    "\n",
    "        c_n = max(numbers)\n",
    "        c_i = numbers.index(c_n)\n",
    "        numbers[c_i] = 0\n",
    "\n",
    "        j = c_i + 1\n",
    "        for i in range(c_n):\n",
    "            numbers[(j+i)%l] += 1\n",
    "\n",
    "    return redistributions, len(cache)-cache.index(numbers)\n",
    "\n",
    "print(*day_06(numbers))"
   ]
  },
  {
   "cell_type": "markdown",
   "metadata": {},
   "source": [
    "## --- Day 7: Recursive Circus ---\n",
    "\n",
    "Wandering further through the circuits of the computer, you come upon a tower of programs that have gotten themselves into a bit of trouble. A recursive algorithm has gotten out of hand, and now they're balanced precariously in a large tower.\n",
    "\n",
    "One program at the bottom supports the entire tower. It's holding a large disc, and on the disc are balanced several more sub-towers. At the bottom of these sub-towers, standing on the bottom disc, are other programs, each holding their own disc, and so on. At the very tops of these sub-sub-sub-...-towers, many programs stand simply keeping the disc below them balanced but with no disc of their own.\n",
    "\n",
    "You offer to help, but first you need to understand the structure of these towers. You ask each program to yell out their name, their weight, and (if they're holding a disc) the names of the programs immediately above them balancing on that disc. You write this information down (your puzzle input). Unfortunately, in their panic, they don't do this in an orderly fashion; by the time you're done, you're not sure which program gave which information.\n",
    "\n",
    "For example, if your list is the following:\n",
    "\n",
    "    pbga (66)\n",
    "    xhth (57)\n",
    "    ebii (61)\n",
    "    havc (66)\n",
    "    ktlj (57)\n",
    "    fwft (72) -> ktlj, cntj, xhth\n",
    "    qoyq (66)\n",
    "    padx (45) -> pbga, havc, qoyq\n",
    "    tknk (41) -> ugml, padx, fwft\n",
    "    jptl (61)\n",
    "    ugml (68) -> gyxo, ebii, jptl\n",
    "    gyxo (61)\n",
    "    cntj (57)\n",
    "\n",
    "...then you would be able to recreate the structure of the towers that looks like this:\n",
    "\n",
    "\n",
    "\n"
   ]
  },
  {
   "cell_type": "raw",
   "metadata": {},
   "source": [
    "                gyxo\n",
    "              /     \n",
    "         ugml - ebii\n",
    "       /      \\     \n",
    "      |         jptl\n",
    "      |        \n",
    "      |         pbga\n",
    "     /        /\n",
    "tknk --- padx - havc\n",
    "     \\        \\\n",
    "      |         qoyq\n",
    "      |             \n",
    "      |         ktlj\n",
    "       \\      /     \n",
    "         fwft - cntj\n",
    "              \\     \n",
    "                xhth"
   ]
  },
  {
   "cell_type": "markdown",
   "metadata": {},
   "source": [
    "In this example, tknk is at the bottom of the tower (the bottom program), and is holding up ugml, padx, and fwft. Those programs are, in turn, holding up other programs; in this example, none of those programs are holding up any other programs, and are all the tops of their own towers. (The actual tower balancing in front of you is much larger.)\n",
    "\n",
    "Before you're ready to help them, you need to make sure your information is correct. What is the name of the bottom program?"
   ]
  },
  {
   "cell_type": "code",
   "execution_count": 14,
   "metadata": {},
   "outputs": [
    {
     "name": "stdout",
     "output_type": "stream",
     "text": [
      "aapssr\n"
     ]
    }
   ],
   "source": [
    "def day_07_part1(file_name):\n",
    "    with open(file_name, 'r') as f:\n",
    "        lines = f.read().strip().split('\\n')\n",
    "\n",
    "    nodes = {}\n",
    "    for line in lines:\n",
    "        if '->' in line:\n",
    "            name, children = line.split(' -> ')\n",
    "            name = name.split(' ')[0]\n",
    "            children = children.split(', ')\n",
    "            nodes[name] = children\n",
    "\n",
    "    # The lowest node is the only one, which is not\n",
    "    # a child of another node\n",
    "    is_child = []\n",
    "    for name, children in nodes.items():\n",
    "        for child in children:\n",
    "            is_child.append(child)\n",
    "\n",
    "    node_names = list(nodes.keys())\n",
    "    for name in is_child:\n",
    "        if name in node_names:\n",
    "            node_names.pop(node_names.index(name))\n",
    "\n",
    "    return node_names[0]\n",
    "\n",
    "root_node = day_07_part1('day7.txt')\n",
    "print(root_node)"
   ]
  },
  {
   "cell_type": "markdown",
   "metadata": {},
   "source": [
    "### --- Part Two ---\n",
    "\n",
    "The programs explain the situation: they can't get down. Rather, they could get down, if they weren't expending all of their energy trying to keep the tower balanced. Apparently, one program has the wrong weight, and until it's fixed, they're stuck here.\n",
    "\n",
    "For any program holding a disc, each program standing on that disc forms a sub-tower. Each of those sub-towers are supposed to be the same weight, or the disc itself isn't balanced. The weight of a tower is the sum of the weights of the programs in that tower.\n",
    "\n",
    "In the example above, this means that for ugml's disc to be balanced, gyxo, ebii, and jptl must all have the same weight, and they do: 61.\n",
    "\n",
    "However, for tknk to be balanced, each of the programs standing on its disc and all programs above it must each match. This means that the following sums must all be the same:\n",
    "\n",
    "    ugml + (gyxo + ebii + jptl) = 68 + (61 + 61 + 61) = 251\n",
    "    padx + (pbga + havc + qoyq) = 45 + (66 + 66 + 66) = 243\n",
    "    fwft + (ktlj + cntj + xhth) = 72 + (57 + 57 + 57) = 243\n",
    "\n",
    "As you can see, tknk's disc is unbalanced: ugml's stack is heavier than the other two. Even though the nodes above ugml are balanced, ugml itself is too heavy: it needs to be 8 units lighter for its stack to weigh 243 and keep the towers balanced. If this change were made, its weight would be 60.\n",
    "\n",
    "Given that exactly one program is the wrong weight, what would its weight need to be to balance the entire tower?\n"
   ]
  },
  {
   "cell_type": "code",
   "execution_count": 15,
   "metadata": {},
   "outputs": [
    {
     "name": "stdout",
     "output_type": "stream",
     "text": [
      "1458\n"
     ]
    }
   ],
   "source": [
    "def day_07_part2(file_name, root_node):\n",
    "    file_name = 'day7.txt'\n",
    "    with open(file_name, 'r') as f:\n",
    "        lines = f.read().strip().split('\\n')\n",
    "\n",
    "    nodes = {}\n",
    "    for line in lines:\n",
    "        if '->' in line:\n",
    "            name, children = line.split(' -> ')\n",
    "            name, weight = name.split(' ')\n",
    "            children = children.split(', ')\n",
    "        else:\n",
    "            name, weight = line.split(' ')\n",
    "            children = []\n",
    "        nodes[name] = {\n",
    "            'weight': int(weight[1:-1]),\n",
    "            'total_weight': None,\n",
    "            'children': dict(zip(children, [None]*len(children)))\n",
    "        }\n",
    "\n",
    "    def get_node_sum(node_name):\n",
    "        \"\"\" builds the total weight for each node \"\"\"\n",
    "        node = nodes[node_name]\n",
    "        if node['total_weight']:\n",
    "            return node['total_weight']\n",
    "\n",
    "        node['total_weight'] = node['weight']\n",
    "        for child in node['children'].keys():\n",
    "            weight = get_node_sum(child)\n",
    "            node['total_weight'] += weight\n",
    "            node['children'][child] = weight\n",
    "        return node['total_weight']\n",
    "\n",
    "    get_node_sum(root_node)\n",
    "    \n",
    "    node_name = root_node\n",
    "    last_diff = 0\n",
    "    while True:\n",
    "        # find deepest node which childrens are balanced\n",
    "        keys, values = list(zip(*list(nodes[node_name]['children'].items())))\n",
    "        values_set = set(values)\n",
    "        if len(values_set) == 1:\n",
    "            return nodes[node_name]['weight'] - last_diff\n",
    "        else:\n",
    "            x = values_set.pop()\n",
    "            y = values_set.pop()\n",
    "        \n",
    "        # find which node has the wrong weight\n",
    "        # and store the difference\n",
    "        if values.count(x) == 1:\n",
    "            outlier = x\n",
    "            not_outlier = y\n",
    "        elif values.count(y) == 1:\n",
    "            outlier = y\n",
    "            not_outlier = x\n",
    "        last_diff = outlier - not_outlier            \n",
    "        node_name = keys[values.index(outlier)]\n",
    "\n",
    "print(day_07_part2('day7.txt', root_node))"
   ]
  },
  {
   "cell_type": "markdown",
   "metadata": {},
   "source": [
    "## --- Day 8: I Heard You Like Registers ---\n",
    "\n",
    "You receive a signal directly from the CPU. Because of your recent assistance with jump instructions, it would like you to compute the result of a series of unusual register instructions.\n",
    "\n",
    "Each instruction consists of several parts: the register to modify, whether to increase or decrease that register's value, the amount by which to increase or decrease it, and a condition. If the condition fails, skip the instruction without modifying the register. The registers all start at 0. The instructions look like this:\n",
    "\n",
    "    b inc 5 if a > 1\n",
    "    a inc 1 if b < 5\n",
    "    c dec -10 if a >= 1\n",
    "    c inc -20 if c == 10\n",
    "\n",
    "These instructions would be processed as follows:\n",
    "\n",
    "    Because a starts at 0, it is not greater than 1, and so b is not modified.\n",
    "    a is increased by 1 (to 1) because b is less than 5 (it is 0).\n",
    "    c is decreased by -10 (to 10) because a is now greater than or equal to 1 (it is 1).\n",
    "    c is increased by -20 (to -10) because c is equal to 10.\n",
    "\n",
    "After this process, the largest value in any register is 1.\n",
    "\n",
    "You might also encounter <= (less than or equal to) or != (not equal to). However, the CPU doesn't have the bandwidth to tell you what all the registers are named, and leaves that to you to determine.\n",
    "\n",
    "What is the largest value in any register after completing the instructions in your puzzle input?\n",
    "\n",
    "\n",
    "### --- Part Two ---\n",
    "\n",
    "To be safe, the CPU also needs to know the highest value held in any register during this process so that it can decide how much memory to allocate to these operations. For example, in the above instructions, the highest value ever held was 10 (in register c after the third instruction was evaluated).\n"
   ]
  },
  {
   "cell_type": "code",
   "execution_count": 16,
   "metadata": {},
   "outputs": [
    {
     "name": "stdout",
     "output_type": "stream",
     "text": [
      "8022 9819\n"
     ]
    }
   ],
   "source": [
    "def day_08(file_name):\n",
    "    with open(file_name, 'r') as f:\n",
    "        lines = f.read()\n",
    "\n",
    "    all_max = 0\n",
    "    register = defaultdict(int)\n",
    "    for line in lines.strip().split('\\n'):\n",
    "        line = line.split(' ')\n",
    "        if eval(f'register[\"{line[4]}\"] {line[5]} {line[6]}'):\n",
    "            if line[1] == 'inc':\n",
    "                register[line[0]] += int(line[2])\n",
    "            if line[1] == 'dec':\n",
    "                register[line[0]] -= int(line[2])\n",
    "        if max(register.values()) > all_max:\n",
    "            all_max = max(register.values())\n",
    "    return max(register.values()), all_max\n",
    "\n",
    "print(*day_08('day8.txt'))"
   ]
  },
  {
   "cell_type": "markdown",
   "metadata": {},
   "source": [
    "## --- Day 9: Stream Processing ---\n",
    "\n",
    "A large stream blocks your path. According to the locals, it's not safe to cross the stream at the moment because it's full of garbage. You look down at the stream; rather than water, you discover that it's a stream of characters.\n",
    "\n",
    "You sit for a while and record part of the stream (your puzzle input). The characters represent groups - sequences that begin with { and end with }. Within a group, there are zero or more other things, separated by commas: either another group or garbage. Since groups can contain other groups, a } only closes the most-recently-opened unclosed group - that is, they are nestable. Your puzzle input represents a single, large group which itself contains many smaller ones.\n",
    "\n",
    "Sometimes, instead of a group, you will find garbage. Garbage begins with < and ends with >. Between those angle brackets, almost any character can appear, including { and }. Within garbage, < has no special meaning.\n",
    "\n",
    "In a futile attempt to clean up the garbage, some program has canceled some of the characters within it using !: inside garbage, any character that comes after ! should be ignored, including <, >, and even another !.\n",
    "\n",
    "You don't see any characters that deviate from these rules. Outside garbage, you only find well-formed groups, and garbage always terminates according to the rules above.\n",
    "\n",
    "Here are some self-contained pieces of garbage:\n",
    "\n",
    "    <>, empty garbage.\n",
    "    <random characters>, garbage containing random characters.\n",
    "    <<<<>, because the extra < are ignored.\n",
    "    <{!>}>, because the first > is canceled.\n",
    "    <!!>, because the second ! is canceled, allowing the > to terminate the garbage.\n",
    "    <!!!>>, because the second ! and the first > are canceled.\n",
    "    <{o\"i!a,<{i<a>, which ends at the first >.\n",
    "\n",
    "Here are some examples of whole streams and the number of groups they contain:\n",
    "\n",
    "    {}, 1 group.\n",
    "    {{{}}}, 3 groups.\n",
    "    {{},{}}, also 3 groups.\n",
    "    {{{},{},{{}}}}, 6 groups.\n",
    "    {<{},{},{{}}>}, 1 group (which itself contains garbage).\n",
    "    {<a>,<a>,<a>,<a>}, 1 group.\n",
    "    {{<a>},{<a>},{<a>},{<a>}}, 5 groups.\n",
    "    {{<!>},{<!>},{<!>},{<a>}}, 2 groups (since all but the last > are canceled).\n",
    "\n",
    "Your goal is to find the total score for all groups in your input. Each group is assigned a score which is one more than the score of the group that immediately contains it. (The outermost group gets a score of 1.)\n",
    "\n",
    "    {}, score of 1.\n",
    "    {{{}}}, score of 1 + 2 + 3 = 6.\n",
    "    {{},{}}, score of 1 + 2 + 2 = 5.\n",
    "    {{{},{},{{}}}}, score of 1 + 2 + 3 + 3 + 3 + 4 = 16.\n",
    "    {<a>,<a>,<a>,<a>}, score of 1.\n",
    "    {{<ab>},{<ab>},{<ab>},{<ab>}}, score of 1 + 2 + 2 + 2 + 2 = 9.\n",
    "    {{<!!>},{<!!>},{<!!>},{<!!>}}, score of 1 + 2 + 2 + 2 + 2 = 9.\n",
    "    {{<a!>},{<a!>},{<a!>},{<ab>}}, score of 1 + 2 = 3.\n",
    "\n",
    "What is the total score for all groups in your input?\n",
    "\n",
    "### --- Part Two ---\n",
    "\n",
    "Now, you're ready to remove the garbage.\n",
    "\n",
    "To prove you've removed it, you need to count all of the characters within the garbage. The leading and trailing < and > don't count, nor do any canceled characters or the ! doing the canceling.\n",
    "\n",
    "    <>, 0 characters.\n",
    "    <random characters>, 17 characters.\n",
    "    <<<<>, 3 characters.\n",
    "    <{!>}>, 2 characters.\n",
    "    <!!>, 0 characters.\n",
    "    <!!!>>, 0 characters.\n",
    "    <{o\"i!a,<{i<a>, 10 characters.\n",
    "\n",
    "How many non-canceled characters are within the garbage in your puzzle input?"
   ]
  },
  {
   "cell_type": "code",
   "execution_count": 17,
   "metadata": {
    "collapsed": true
   },
   "outputs": [],
   "source": [
    "class FSM(object):\n",
    "    def __init__(self):\n",
    "        self.stack = []\n",
    "        self.score = 0\n",
    "        self.garbage_counter = 0\n",
    "    \n",
    "    def comment(self, c):\n",
    "        self.stack.pop()\n",
    "    \n",
    "    def garbage(self, c):\n",
    "        if c == '>':\n",
    "            self.stack.pop()\n",
    "        elif c == '!':\n",
    "            self.stack.append('comment')\n",
    "        else:\n",
    "            self.garbage_counter += 1\n",
    "    \n",
    "    def group(self, c):\n",
    "        if c == '<':\n",
    "            self.stack.append('garbage')\n",
    "        elif c == '{':\n",
    "            self.stack.append('group')\n",
    "            self.score += self.stack.count('group')\n",
    "        elif c == '}':\n",
    "            self.stack.pop()\n",
    "    \n",
    "    def step(self, c):\n",
    "        if self.stack:\n",
    "            state = self.stack[-1]\n",
    "            getattr(self, state)(c)\n",
    "        else:\n",
    "            self.group(c)"
   ]
  },
  {
   "cell_type": "code",
   "execution_count": 18,
   "metadata": {},
   "outputs": [
    {
     "name": "stdout",
     "output_type": "stream",
     "text": [
      "16869 7284\n"
     ]
    }
   ],
   "source": [
    "def day_09(file_name):\n",
    "    with open(file_name, 'r') as f:\n",
    "        content = f.read().strip()\n",
    "        \n",
    "    fsm = FSM()\n",
    "    for c in content:\n",
    "        fsm.step(c)\n",
    "    return fsm.score, fsm.garbage_counter\n",
    "    \n",
    "print(*day_09('day9.txt'))"
   ]
  },
  {
   "cell_type": "markdown",
   "metadata": {},
   "source": [
    "## --- Day 10: Knot Hash ---\n",
    "\n",
    "You come across some programs that are trying to implement a software emulation of a hash based on knot-tying. The hash these programs are implementing isn't very strong, but you decide to help them anyway. You make a mental note to remind the Elves later not to invent their own cryptographic functions.\n",
    "\n",
    "This hash function simulates tying a knot in a circle of string with 256 marks on it. Based on the input to be hashed, the function repeatedly selects a span of string, brings the ends together, and gives the span a half-twist to reverse the order of the marks within it. After doing this many times, the order of the marks is used to build the resulting hash.\n"
   ]
  },
  {
   "cell_type": "raw",
   "metadata": {},
   "source": [
    "  4--5   pinch   4  5           4   1\n",
    " /    \\  5,0,1  / \\/ \\  twist  / \\ / \\\n",
    "3      0  -->  3      0  -->  3   X   0\n",
    " \\    /         \\ /\\ /         \\ / \\ /\n",
    "  2--1           2  1           2   5"
   ]
  },
  {
   "cell_type": "markdown",
   "metadata": {},
   "source": [
    "To achieve this, begin with a list of numbers from 0 to 255, a current position which begins at 0 (the first element in the list), a skip size (which starts at 0), and a sequence of lengths (your puzzle input). Then, for each length:\n",
    "\n",
    "    Reverse the order of that length of elements in the list, starting with the element at the current position.\n",
    "    Move the current position forward by that length plus the skip size.\n",
    "    Increase the skip size by one.\n",
    "\n",
    "The list is circular; if the current position and the length try to reverse elements beyond the end of the list, the operation reverses using as many extra elements as it needs from the front of the list. If the current position moves past the end of the list, it wraps around to the front. Lengths larger than the size of the list are invalid.\n",
    "\n",
    "Here's an example using a smaller list:\n",
    "\n",
    "Suppose we instead only had a circular list containing five elements, 0, 1, 2, 3, 4, and were given input lengths of 3, 4, 1, 5.\n",
    "\n",
    "    The list begins as [0] 1 2 3 4 (where square brackets indicate the current position).\n",
    "    The first length, 3, selects ([0] 1 2) 3 4 (where parentheses indicate the sublist to be reversed).\n",
    "    After reversing that section (0 1 2 into 2 1 0), we get ([2] 1 0) 3 4.\n",
    "    Then, the current position moves forward by the length, 3, plus the skip size, 0: 2 1 0 [3] 4. Finally, the skip size increases to 1.\n",
    "\n",
    "    The second length, 4, selects a section which wraps: 2 1) 0 ([3] 4.\n",
    "    The sublist 3 4 2 1 is reversed to form 1 2 4 3: 4 3) 0 ([1] 2.\n",
    "    The current position moves forward by the length plus the skip size, a total of 5, causing it not to move because it wraps around: 4 3 0 [1] 2. The skip size increases to 2.\n",
    "\n",
    "    The third length, 1, selects a sublist of a single element, and so reversing it has no effect.\n",
    "    The current position moves forward by the length (1) plus the skip size (2): 4 [3] 0 1 2. The skip size increases to 3.\n",
    "\n",
    "    The fourth length, 5, selects every element starting with the second: 4) ([3] 0 1 2. Reversing this sublist (3 0 1 2 4 into 4 2 1 0 3) produces: 3) ([4] 2 1 0.\n",
    "    Finally, the current position moves forward by 8: 3 4 2 1 [0]. The skip size increases to 4.\n",
    "\n",
    "In this example, the first two numbers in the list end up being 3 and 4; to check the process, you can multiply them together to produce 12.\n",
    "\n",
    "However, you should instead use the standard list size of 256 (with values 0 to 255) and the sequence of lengths in your puzzle input. Once this process is complete, what is the result of multiplying the first two numbers in the list?\n"
   ]
  },
  {
   "cell_type": "code",
   "execution_count": 19,
   "metadata": {},
   "outputs": [
    {
     "name": "stdout",
     "output_type": "stream",
     "text": [
      "3770\n"
     ]
    }
   ],
   "source": [
    "content = '199,0,255,136,174,254,227,16,51,85,1,2,22,17,7,192'\n",
    "\n",
    "def day_10_part1(content, length):\n",
    "    content = list(map(int, content.split(',')))\n",
    "    circular_list = list(range(length))\n",
    "\n",
    "    skip_size = 0\n",
    "    current_position = 0\n",
    "    content, circular_list\n",
    "    \n",
    "    def roll(x, position):\n",
    "        y = x[:]\n",
    "        for i in range(position):\n",
    "            y.append(y.pop(0))\n",
    "        return y\n",
    "\n",
    "    def unroll(x, position):\n",
    "        y = x[:]\n",
    "        for i in range(position):\n",
    "            y.insert(0, y.pop())\n",
    "        return y\n",
    "    \n",
    "    for i in content:\n",
    "        tmp_list = roll(circular_list, current_position)\n",
    "        tmp_list = tmp_list[0:i][::-1] + tmp_list[i:]\n",
    "        circular_list = unroll(tmp_list[:], current_position)\n",
    "\n",
    "        current_position += i + skip_size\n",
    "        current_position %= length\n",
    "\n",
    "        skip_size += 1\n",
    "    \n",
    "    return circular_list[0]*circular_list[1]\n",
    "\n",
    "print(day_10_part1(content, 256))"
   ]
  },
  {
   "cell_type": "markdown",
   "metadata": {},
   "source": [
    "### --- Part Two ---\n",
    "\n",
    "The logic you've constructed forms a single round of the Knot Hash algorithm; running the full thing requires many of these rounds. Some input and output processing is also required.\n",
    "\n",
    "First, from now on, your input should be taken not as a list of numbers, but as a string of bytes instead. Unless otherwise specified, convert characters to bytes using their ASCII codes. This will allow you to handle arbitrary ASCII strings, and it also ensures that your input lengths are never larger than 255. For example, if you are given 1,2,3, you should convert it to the ASCII codes for each character: 49,44,50,44,51.\n",
    "\n",
    "Once you have determined the sequence of lengths to use, add the following lengths to the end of the sequence: 17, 31, 73, 47, 23. For example, if you are given 1,2,3, your final sequence of lengths should be 49,44,50,44,51,17,31,73,47,23 (the ASCII codes from the input string combined with the standard length suffix values).\n",
    "\n",
    "Second, instead of merely running one round like you did above, run a total of 64 rounds, using the same length sequence in each round. The current position and skip size should be preserved between rounds. For example, if the previous example was your first round, you would start your second round with the same length sequence (3, 4, 1, 5, 17, 31, 73, 47, 23, now assuming they came from ASCII codes and include the suffix), but start with the previous round's current position (4) and skip size (4).\n",
    "\n",
    "Once the rounds are complete, you will be left with the numbers from 0 to 255 in some order, called the sparse hash. Your next task is to reduce these to a list of only 16 numbers called the dense hash. To do this, use numeric bitwise XOR to combine each consecutive block of 16 numbers in the sparse hash (there are 16 such blocks in a list of 256 numbers). So, the first element in the dense hash is the first sixteen elements of the sparse hash XOR'd together, the second element in the dense hash is the second sixteen elements of the sparse hash XOR'd together, etc.\n",
    "\n",
    "For example, if the first sixteen elements of your sparse hash are as shown below, and the XOR operator is ^, you would calculate the first output number like this:\n",
    "\n",
    "65 ^ 27 ^ 9 ^ 1 ^ 4 ^ 3 ^ 40 ^ 50 ^ 91 ^ 7 ^ 6 ^ 0 ^ 2 ^ 5 ^ 68 ^ 22 = 64\n",
    "\n",
    "Perform this operation on each of the sixteen blocks of sixteen numbers in your sparse hash to determine the sixteen numbers in your dense hash.\n",
    "\n",
    "Finally, the standard way to represent a Knot Hash is as a single hexadecimal string; the final output is the dense hash in hexadecimal notation. Because each number in your dense hash will be between 0 and 255 (inclusive), always represent each number as two hexadecimal digits (including a leading zero as necessary). So, if your first three numbers are 64, 7, 255, they correspond to the hexadecimal numbers 40, 07, ff, and so the first six characters of the hash would be 4007ff. Because every Knot Hash is sixteen such numbers, the hexadecimal representation is always 32 hexadecimal digits (0-f) long.\n",
    "\n",
    "Here are some example hashes:\n",
    "\n",
    "    The empty string becomes a2582a3a0e66e6e86e3812dcb672a272.\n",
    "    AoC 2017 becomes 33efeb34ea91902bb2f59c9920caa6cd.\n",
    "    1,2,3 becomes 3efbe78a8d82f29979031a4aa0b16a9d.\n",
    "    1,2,4 becomes 63960835bcdc130f0b66d7ff4f6a5a8e.\n",
    "\n",
    "Treating your puzzle input as a string of ASCII characters, what is the Knot Hash of your puzzle input? Ignore any leading or trailing whitespace you might encounter.\n"
   ]
  },
  {
   "cell_type": "code",
   "execution_count": 20,
   "metadata": {},
   "outputs": [
    {
     "name": "stdout",
     "output_type": "stream",
     "text": [
      "a9d0e68649d0174c8756a59ba21d4dc6\n"
     ]
    }
   ],
   "source": [
    "content = '199,0,255,136,174,254,227,16,51,85,1,2,22,17,7,192'\n",
    "\n",
    "def day_10_part1(tmp, length):\n",
    "    content = []\n",
    "    for c in tmp:\n",
    "        content.append(ord(c))\n",
    "    content += [17, 31, 73, 47, 23]\n",
    "\n",
    "    circular_list = list(range(length))\n",
    "\n",
    "    skip_size = 0\n",
    "    current_position = 0\n",
    "    content, circular_list\n",
    "\n",
    "    def roll(x, position):\n",
    "        y = x[:]\n",
    "        for i in range(position):\n",
    "            y.append(y.pop(0))\n",
    "        return y\n",
    "\n",
    "    def unroll(x, position):\n",
    "        y = x[:]\n",
    "        for i in range(position):\n",
    "            y.insert(0, y.pop())\n",
    "        return y\n",
    "\n",
    "    for i in range(64):\n",
    "        for i in content:\n",
    "            tmp_list = roll(circular_list, current_position)\n",
    "            tmp_list = tmp_list[0:i][::-1] + tmp_list[i:]\n",
    "            circular_list = unroll(tmp_list[:], current_position)\n",
    "\n",
    "            current_position += i + skip_size\n",
    "            current_position %= length\n",
    "\n",
    "            skip_size += 1\n",
    "\n",
    "    dense_hash = []\n",
    "    for i in range(16):\n",
    "        result = circular_list[i*16]\n",
    "        for j in range(1, 16):\n",
    "            result ^= circular_list[i*16 + j]\n",
    "        dense_hash.append(result)\n",
    "\n",
    "    return ''.join(map(lambda x: f'{x:02x}', dense_hash))\n",
    "\n",
    "print(day_10_part1(content, 256))"
   ]
  }
 ],
 "metadata": {
  "kernelspec": {
   "display_name": "Python 3",
   "language": "python",
   "name": "python3"
  },
  "language_info": {
   "codemirror_mode": {
    "name": "ipython",
    "version": 3
   },
   "file_extension": ".py",
   "mimetype": "text/x-python",
   "name": "python",
   "nbconvert_exporter": "python",
   "pygments_lexer": "ipython3",
   "version": "3.6.1+"
  }
 },
 "nbformat": 4,
 "nbformat_minor": 2
}
