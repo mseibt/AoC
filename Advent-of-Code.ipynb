{
 "cells": [
  {
   "cell_type": "markdown",
   "metadata": {},
   "source": [
    "# Advent of Code\n",
    "\n",
    "Puzzles by: http://adventofcode.com/"
   ]
  },
  {
   "cell_type": "markdown",
   "metadata": {},
   "source": [
    "## --- Day 1: Inverse Captcha ---\n",
    "\n",
    "The night before Christmas, one of Santa's Elves calls you in a panic. \"The printer's broken! We can't print the Naughty or Nice List!\" By the time you make it to sub-basement 17, there are only a few minutes until midnight. \"We have a big problem,\" she says; \"there must be almost fifty bugs in this system, but nothing else can print The List. Stand in this square, quick! There's no time to explain; if you can convince them to pay you in stars, you'll be able to--\" She pulls a lever and the world goes blurry.\n",
    "\n",
    "When your eyes can focus again, everything seems a lot more pixelated than before. She must have sent you inside the computer! You check the system clock: 25 milliseconds until midnight. With that much time, you should be able to collect all fifty stars by December 25th.\n",
    "\n",
    "Collect stars by solving puzzles. Two puzzles will be made available on each day millisecond in the advent calendar; the second puzzle is unlocked when you complete the first. Each puzzle grants one star. Good luck!\n",
    "\n",
    "You're standing in a room with \"digitization quarantine\" written in LEDs along one wall. The only door is locked, but it includes a small interface. \"Restricted Area - Strictly No Digitized Users Allowed.\"\n",
    "\n",
    "It goes on to explain that you may only leave by solving a captcha to prove you're not a human. Apparently, you only get one millisecond to solve the captcha: too fast for a normal human, but it feels like hours to you.\n",
    "\n",
    "The captcha requires you to review a sequence of digits (your puzzle input) and find the sum of all digits that match the next digit in the list. The list is circular, so the digit after the last digit is the first digit in the list.\n",
    "\n",
    "For example:\n",
    "\n",
    "    1122 produces a sum of 3 (1 + 2) because the first digit (1) matches the second digit and the third digit (2) matches the fourth digit.\n",
    "    1111 produces 4 because each digit (all 1) matches the next.\n",
    "    1234 produces 0 because no digit matches the next.\n",
    "    91212129 produces 9 because the only digit that matches the next one is the last digit, 9.\n",
    "\n",
    "What is the solution to your captcha?\n"
   ]
  },
  {
   "cell_type": "code",
   "execution_count": 1,
   "metadata": {},
   "outputs": [
    {
     "name": "stdout",
     "output_type": "stream",
     "text": [
      "1341\n"
     ]
    }
   ],
   "source": [
    "captcha_input = (\n",
    "    '9514845965411415573169847814949991796797677476271324475131716'\n",
    "    '2642456177966287315776144295221229668557345231126344516323349'\n",
    "    '3199211387838461594635666699422982947782623317333683978438123'\n",
    "    '2613268639597197771792285993193211389484665627437615848361845'\n",
    "    '1298413163535411626489918195274822452395397648581629522794579'\n",
    "    '2555726121913344959454458829485471174415775278865324142733339'\n",
    "    '7898789295962759983417788738895858199164574747732522491793665'\n",
    "    '9995145418265722557627783466922298236688468856575469127374595'\n",
    "    '9468648957498511326215934353963981471593984617554514519623785'\n",
    "    '3268883747421473189934232148347517859569583951334866563884545'\n",
    "    '5276972256252441571591386994632555139663859339872993852642499'\n",
    "    '4348267935153555851552287223313383583669912941364344694725478'\n",
    "    '2582974989695176328811873941415934798185361945979765192542159'\n",
    "    '3225765377745522747761795783327346321659364239421527531473491'\n",
    "    '4719726618923177918342664351954252667253233858814365351722938'\n",
    "    '7166215442265989562577532122488592583513631747827423369614253'\n",
    "    '2538156157599235241551416878281617386114885947828533952915163'\n",
    "    '1429536819286498721812323861771638574344416879476255929929157'\n",
    "    '9129841517426132687547796853961259545953181349333666265944982'\n",
    "    '4995638877172377724277265467844881584455537289257474773567236'\n",
    "    '8299826548254744359377667294764559334659523233146587568261116'\n",
    "    '2531551893941886968316912847112648729143489618882533869719944'\n",
    "    '3135247471737687874594876917124324262121991237873175554438724'\n",
    "    '9443997382399714738351857752329367997665166956467544459817582'\n",
    "    '9154785144865414539321755984135542596721173648631125925159889'\n",
    "    '2274716484266836192513555124892344996832838588987751215695272'\n",
    "    '5198691746951431443497496455761516486573476185321748523644283'\n",
    "    '4941811193998743246839223935476828519314359312762677667727982'\n",
    "    '6156311795464857642174138482349418789527258257566968527998698'\n",
    "    '8357796138794326125852772995446355723211161523161886222562853'\n",
    "    '5464884115634739986338479532467875571461876969478313357228889'\n",
    "    '1817296125649897186894623729952347484198352739148996235719643'\n",
    "    '3927251798764362493965894995592683296651874787384247326643886'\n",
    "    '7749668286573937176265915783211748322224341288178717653472781'\n",
    "    '5279942556563352115264368622141112946342549642538551671968288'\n",
    "    '4157452772141585743166647191938727971366274357874252166721759'\n",
    ")\n",
    "\n",
    "def day_01_part1(captcha_input):\n",
    "    result = 0\n",
    "\n",
    "    last = captcha_input[-1]\n",
    "    for i in captcha_input:\n",
    "        if last == i:\n",
    "            result += int(i)\n",
    "        last = i\n",
    "\n",
    "    return result\n",
    "\n",
    "print(day_01_part1(captcha_input))"
   ]
  },
  {
   "cell_type": "markdown",
   "metadata": {},
   "source": [
    "### --- Part Two ---\n",
    "\n",
    "You notice a progress bar that jumps to 50% completion. Apparently, the door isn't yet satisfied, but it did emit a star as encouragement. The instructions change:\n",
    "\n",
    "Now, instead of considering the next digit, it wants you to consider the digit halfway around the circular list. That is, if your list contains 10 items, only include a digit in your sum if the digit 10/2 = 5 steps forward matches it. Fortunately, your list has an even number of elements.\n",
    "\n",
    "For example:\n",
    "\n",
    "    1212 produces 6: the list contains 4 items, and all four digits match the digit 2 items ahead.\n",
    "    1221 produces 0, because every comparison is between a 1 and a 2.\n",
    "    123425 produces 4, because both 2s match each other, but no other digit has a match.\n",
    "    123123 produces 12.\n",
    "    12131415 produces 4.\n"
   ]
  },
  {
   "cell_type": "code",
   "execution_count": 2,
   "metadata": {},
   "outputs": [
    {
     "name": "stdout",
     "output_type": "stream",
     "text": [
      "1348\n"
     ]
    }
   ],
   "source": [
    "def day_01_part2(captcha_input):\n",
    "    length = len(captcha_input)\n",
    "    stride = length // 2\n",
    "    \n",
    "    result = 0\n",
    "    for i in range(length):\n",
    "        j = (i + stride) % length\n",
    "        if captcha_input[i] == captcha_input[j]:\n",
    "            result += int(captcha_input[i])\n",
    "            \n",
    "    return result\n",
    "\n",
    "print(day_01_part2(captcha_input))"
   ]
  },
  {
   "cell_type": "markdown",
   "metadata": {},
   "source": [
    "#### Code Golf"
   ]
  },
  {
   "cell_type": "code",
   "execution_count": 3,
   "metadata": {},
   "outputs": [],
   "source": [
    "from functools import reduce\n",
    "x = captcha_input"
   ]
  },
  {
   "cell_type": "code",
   "execution_count": 4,
   "metadata": {},
   "outputs": [
    {
     "name": "stdout",
     "output_type": "stream",
     "text": [
      "1341\n",
      "1348\n",
      "1341\n",
      "1348\n",
      "1341\n",
      "1348\n"
     ]
    }
   ],
   "source": [
    "s=lambda o:print(reduce(lambda x,a:x+int(a[0])*(a[0]==a[1]),[0]+list(zip(x[o:]+x[:o],x))));s(1);s(len(x)//2)\n",
    "s=lambda o:print(sum([int(a)*(a==b) for a,b in zip(x[o:]+x[:o],x)]));s(1);s(len(x)//2)\n",
    "s=lambda o:print(sum(map(lambda a,b:int(a)*(a==b),x[o:]+x[:o],x)));s(1);s(len(x)//2)"
   ]
  }
 ],
 "metadata": {
  "kernelspec": {
   "display_name": "Python 3",
   "language": "python",
   "name": "python3"
  },
  "language_info": {
   "codemirror_mode": {
    "name": "ipython",
    "version": 3
   },
   "file_extension": ".py",
   "mimetype": "text/x-python",
   "name": "python",
   "nbconvert_exporter": "python",
   "pygments_lexer": "ipython3",
   "version": "3.6.2"
  }
 },
 "nbformat": 4,
 "nbformat_minor": 2
}
